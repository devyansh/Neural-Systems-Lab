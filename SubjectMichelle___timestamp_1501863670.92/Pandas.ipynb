{
 "cells": [
  {
   "cell_type": "markdown",
   "metadata": {},
   "source": [
    "# Extracting EEG data using Pandas"
   ]
  },
  {
   "cell_type": "code",
   "execution_count": 1,
   "metadata": {},
   "outputs": [],
   "source": [
    "import pandas as pd\n",
    "import matplotlib.pyplot as plt\n",
    "import numpy as np"
   ]
  },
  {
   "cell_type": "markdown",
   "metadata": {},
   "source": [
    "### Load time information"
   ]
  },
  {
   "cell_type": "code",
   "execution_count": 2,
   "metadata": {},
   "outputs": [],
   "source": [
    "dictionary = []\n",
    "\n",
    "file = \"SubjectMichelle__log.txt\"\n",
    "with open(file, 'r') as f:\n",
    "    for line in f:\n",
    "        dictionary.append(eval(line))\n",
    "dictionary = dictionary[1:]"
   ]
  },
  {
   "cell_type": "code",
   "execution_count": 3,
   "metadata": {},
   "outputs": [],
   "source": [
    "start_left_time = []\n",
    "end_left_time = []\n",
    "start_right_time = []\n",
    "end_right_time = []\n",
    "\n",
    "\n",
    "for line in dictionary:\n",
    "    start_left_time.append(line['start_left_time'])\n",
    "    end_left_time.append(line['end_left_time'])\n",
    "    start_right_time.append(line['start_right_time'])\n",
    "    end_right_time.append(line['end_right_time'])"
   ]
  },
  {
   "cell_type": "markdown",
   "metadata": {},
   "source": [
    "## Extract EEG Data"
   ]
  },
  {
   "cell_type": "code",
   "execution_count": 12,
   "metadata": {},
   "outputs": [],
   "source": [
    "data = pd.read_csv(\"SubjectMichelle__eeg.csv\")\n",
    "for i in range(len(start_left_time)):\n",
    "    start = start_left_time[i]\n",
    "    end = end_left_time[i]\n",
    "    #print(start - end)\n",
    "#oz = np.zeros(len(start_left_time), )\n"
   ]
  },
  {
   "cell_type": "code",
   "execution_count": 13,
   "metadata": {},
   "outputs": [],
   "source": [
    "FS = 500\n",
    "T = 15\n",
    "\n",
    "OzLeft = np.zeros((len(start_left_time), FS * T - 10))\n",
    "index = 0\n",
    "\n",
    "for start,stop in zip(start_left_time, end_left_time):\n",
    "    ozData = data[(data['time'] > start) & (data['time'] < stop)].Oz\n",
    "    #print(len(ozData))   Figured out (-10) using this\n",
    "    OzLeft[index, :] = ozData[0 : FS * T - 10]\n",
    "    index += 1\n",
    "\n",
    "OzRight = np.zeros((len(start_left_time), FS * T - 10))\n",
    "index = 0    \n",
    "\n",
    "for start,stop in zip(start_right_time, end_right_time):\n",
    "    ozData = data[(data['time'] > start) & (data['time'] < stop)].Oz\n",
    "    OzRight[index, :] = ozData[0 : FS * T - 10]\n",
    "    index += 1"
   ]
  },
  {
   "cell_type": "code",
   "execution_count": 14,
   "metadata": {},
   "outputs": [],
   "source": [
    "numberOfLogs = len(start_left_time)\n",
    "\n",
    "avgOverAllLogsLeft = np.array(500)\n",
    "avgOverAllLogsRight = np.array(500)\n",
    "\n",
    "for i in range(numberOfLogs):\n",
    "    avgOverAllLogsLeft = avgOverAllLogsLeft + averageOf14Times(OzLeft[i])\n",
    "    avgOverAllLogsRight = avgOverAllLogsRight + averageOf14Times(OzRight[i])\n",
    "\n",
    "# Avergae out the array over number of Logs\n",
    "avgOverAllLogsLeft = avgOverAllLogsLeft / numberOfLogs\n",
    "avgOverAllLogsRight = avgOverAllLogsRight / numberOfLogs"
   ]
  },
  {
   "cell_type": "code",
   "execution_count": 15,
   "metadata": {},
   "outputs": [
    {
     "data": {
      "text/plain": [
       "[<matplotlib.lines.Line2D at 0x191e193c320>]"
      ]
     },
     "execution_count": 15,
     "metadata": {},
     "output_type": "execute_result"
    },
    {
     "data": {
      "image/png": "[encoded data removed]",
      "text/plain": [
       "<Figure size 432x288 with 1 Axes>"
      ]
     },
     "metadata": {
      "needs_background": "light"
     },
     "output_type": "display_data"
    }
   ],
   "source": [
    "fig1 = plt.figure(3)\n",
    "plt.plot(avgOverAllLogsLeft[10:15])\n",
    "plt.plot(avgOverAllLogsRight[10:15])"
   ]
  },
  {
   "cell_type": "code",
   "execution_count": 5,
   "metadata": {},
   "outputs": [],
   "source": [
    "def averageOf14Times(npValues):\n",
    "    avg = np.array(500)\n",
    "    for i in range(14):\n",
    "        x = np.fft.fft(npValues[i * 500:i * 500 + 500])\n",
    "        avg = avg + np.abs(x)\n",
    "    avg = avg / 14\n",
    "    \n",
    "    # Commented this out as now we are plotting one average figure of all Logs instead of seperate plot for each Log\n",
    "    \n",
    "    #fig1 = plt.figure(3)\n",
    "    #plt.plot(avg[10:15])\n",
    "    \n",
    "    return avg"
   ]
  },
  {
   "cell_type": "code",
   "execution_count": null,
   "metadata": {},
   "outputs": [],
   "source": []
  }
 ],
 "metadata": {
  "kernelspec": {
   "display_name": "Python 3",
   "language": "python",
   "name": "python3"
  },
  "language_info": {
   "codemirror_mode": {
    "name": "ipython",
    "version": 3
   },
   "file_extension": ".py",
   "mimetype": "text/x-python",
   "name": "python",
   "nbconvert_exporter": "python",
   "pygments_lexer": "ipython3",
   "version": "3.6.8"
  }
 },
 "nbformat": 4,
 "nbformat_minor": 2
}
